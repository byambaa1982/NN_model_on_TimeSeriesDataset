{
  "nbformat": 4,
  "nbformat_minor": 0,
  "metadata": {
    "colab": {
      "name": "NN model.ipynb",
      "provenance": [],
      "collapsed_sections": [],
      "include_colab_link": true
    },
    "kernelspec": {
      "name": "python3",
      "display_name": "Python 3"
    }
  },
  "cells": [
    {
      "cell_type": "markdown",
      "metadata": {
        "id": "view-in-github",
        "colab_type": "text"
      },
      "source": [
        "<a href=\"https://colab.research.google.com/github/byambaa1982/NN_model_on_TimeSeriesDataset/blob/master/NN_model.ipynb\" target=\"_parent\"><img src=\"https://colab.research.google.com/assets/colab-badge.svg\" alt=\"Open In Colab\"/></a>"
      ]
    },
    {
      "cell_type": "code",
      "metadata": {
        "id": "Pz-IzbSN_0K7",
        "colab_type": "code",
        "colab": {}
      },
      "source": [
        "# grid search mlps for airline passengers\n",
        "from math import sqrt\n",
        "from numpy import array\n",
        "from numpy import mean\n",
        "from pandas import DataFrame\n",
        "from pandas import concat\n",
        "from pandas import read_csv\n",
        "from sklearn.metrics import mean_squared_error\n",
        "from keras.models import Sequential\n",
        "from keras.layers import Dense\n",
        "import pandas as pd\n",
        "import numpy as np"
      ],
      "execution_count": 0,
      "outputs": []
    },
    {
      "cell_type": "code",
      "metadata": {
        "id": "5tbGZ8eJApCF",
        "colab_type": "code",
        "colab": {}
      },
      "source": [
        "# split a univariate dataset into train/test sets\n",
        "def train_test_split(data, n_test):\n",
        "\treturn data[:-n_test], data[-n_test:]"
      ],
      "execution_count": 0,
      "outputs": []
    },
    {
      "cell_type": "code",
      "metadata": {
        "id": "0G50XKWAAz4v",
        "colab_type": "code",
        "colab": {}
      },
      "source": [
        "# transform list into supervised learning format\n",
        "def series_to_supervised(data, n_in=1, n_out=1):\n",
        "\tdf = pd.DataFrame(data)\n",
        "\tcols = list()\n",
        "\t# input sequence (t-n, ... t-1)\n",
        "\tfor i in range(n_in, 0, -1):\n",
        "\t\tcols.append(df.shift(i))\n",
        "\t# forecast sequence (t, t+1, ... t+n)\n",
        "\tfor i in range(0, n_out):\n",
        "\t\tcols.append(df.shift(-i))\n",
        "\t# put it all together\n",
        "\tagg = concat(cols, axis=1)\n",
        "\t# drop rows with NaN values\n",
        "\tagg.dropna(inplace=True)\n",
        "\treturn agg.values"
      ],
      "execution_count": 0,
      "outputs": []
    },
    {
      "cell_type": "code",
      "metadata": {
        "id": "o1XSOeUAAjwu",
        "colab_type": "code",
        "colab": {}
      },
      "source": [
        " \n",
        "# root mean squared error or rmse\n",
        "def measure_rmse(actual, predicted):\n",
        "\treturn sqrt(mean_squared_error(actual, predicted))\n",
        " \n",
        "# difference dataset\n",
        "def difference(data, order):\n",
        "\treturn [data[i] - data[i - order] for i in range(order, len(data))]\n",
        " \n",
        "# fit a model\n",
        "def model_fit(train, config):\n",
        "\t# unpack config\n",
        "\tn_input, n_nodes, n_epochs, n_batch, n_diff = config\n",
        "\t# prepare data\n",
        "\tif n_diff > 0:\n",
        "\t\ttrain = difference(train, n_diff)\n",
        "\t# transform series into supervised format\n",
        "\tdata = series_to_supervised(train, n_in=n_input)\n",
        "\t# separate inputs and outputs\n",
        "\ttrain_x, train_y = data[:, :-1], data[:, -1]\n",
        "\t# define model\n",
        "\tmodel = Sequential()\n",
        "\tmodel.add(Dense(n_nodes, activation='relu', input_dim=n_input))\n",
        "\tmodel.add(Dense(1))\n",
        "\tmodel.compile(loss='mse', optimizer='adam')\n",
        "\t# fit model\n",
        "\tmodel.fit(train_x, train_y, epochs=n_epochs, batch_size=n_batch, verbose=0)\n",
        "\treturn model\n",
        " \n",
        "# forecast with the fit model\n",
        "def model_predict(model, history, config):\n",
        "\t# unpack config\n",
        "\tn_input, _, _, _, n_diff = config\n",
        "\t# prepare data\n",
        "\tcorrection = 0.0\n",
        "\tif n_diff > 0:\n",
        "\t\tcorrection = history[-n_diff]\n",
        "\t\thistory = difference(history, n_diff)\n",
        "\t# shape input for model\n",
        "\tx_input = array(history[-n_input:]).reshape((1, n_input))\n",
        "\t# make forecast\n",
        "\tyhat = model.predict(x_input, verbose=0)\n",
        "\t# correct forecast if it was differenced\n",
        "\treturn correction + yhat[0]\n",
        " \n",
        "# walk-forward validation for univariate data\n",
        "def walk_forward_validation(data, n_test, cfg):\n",
        "\tpredictions = list()\n",
        "\t# split dataset\n",
        "\ttrain, test = train_test_split(data, n_test)\n",
        "\t# fit model\n",
        "\tmodel = model_fit(train, cfg)\n",
        "\t# seed history with training dataset\n",
        "\thistory = [x for x in train]\n",
        "\t# step over each time-step in the test set\n",
        "\tfor i in range(len(test)):\n",
        "\t\t# fit model and make forecast for history\n",
        "\t\tyhat = model_predict(model, history, cfg)\n",
        "\t\t# store forecast in list of predictions\n",
        "\t\tpredictions.append(yhat)\n",
        "\t\t# add actual observation to history for the next loop\n",
        "\t\thistory.append(test[i])\n",
        "\t# estimate prediction error\n",
        "\terror = measure_rmse(test, predictions)\n",
        "\tprint(' > %.3f' % error)\n",
        "\treturn error\n",
        " \n",
        "# score a model, return None on failure\n",
        "def repeat_evaluate(data, config, n_test, n_repeats=10):\n",
        "\t# convert config to a key\n",
        "\tkey = str(config)\n",
        "\t# fit and evaluate the model n times\n",
        "\tscores = [walk_forward_validation(data, n_test, config) for _ in range(n_repeats)]\n",
        "\t# summarize score\n",
        "\tresult = mean(scores)\n",
        "\tprint('> Model[%s] %.3f' % (key, result))\n",
        "\treturn (key, result)\n",
        " \n",
        "# grid search configs\n",
        "def grid_search(data, cfg_list, n_test):\n",
        "\t# evaluate configs\n",
        "\tscores = [repeat_evaluate(data, cfg, n_test) for cfg in cfg_list]\n",
        "\t# sort configs by error, asc\n",
        "\tscores.sort(key=lambda tup: tup[1])\n",
        "\treturn scores\n",
        " "
      ],
      "execution_count": 0,
      "outputs": []
    },
    {
      "cell_type": "code",
      "metadata": {
        "id": "JgbwFM7dAqeK",
        "colab_type": "code",
        "colab": {}
      },
      "source": [
        "# create a list of configs to try\n",
        "def model_configs():\n",
        "\t# define scope of configs\n",
        "\tn_input = [12]\n",
        "\tn_nodes = [50, 100]\n",
        "\tn_epochs = [100]\n",
        "\tn_batch = [1, 150]\n",
        "\tn_diff = [0, 12]\n",
        "\t# create configs\n",
        "\tconfigs = list()\n",
        "\tfor i in n_input:\n",
        "\t\tfor j in n_nodes:\n",
        "\t\t\tfor k in n_epochs:\n",
        "\t\t\t\tfor l in n_batch:\n",
        "\t\t\t\t\tfor m in n_diff:\n",
        "\t\t\t\t\t\tcfg = [i, j, k, l, m]\n",
        "\t\t\t\t\t\tconfigs.append(cfg)\n",
        "\tprint('Total configs: %d' % len(configs))\n",
        "\treturn configs\n",
        " "
      ],
      "execution_count": 0,
      "outputs": []
    },
    {
      "cell_type": "code",
      "metadata": {
        "id": "qTlKxj_Sn87t",
        "colab_type": "code",
        "colab": {}
      },
      "source": [
        "# define dataset\n",
        "series = pd.read_csv('csv_file.csv', header=0, index_col=0)\n",
        "# series['Pass']=series['Passengers']\n",
        "data = series.values\n",
        "# data split\n",
        "n_test = 12\n",
        "# model configs"
      ],
      "execution_count": 0,
      "outputs": []
    },
    {
      "cell_type": "code",
      "metadata": {
        "id": "-aKxLlKlNI0w",
        "colab_type": "code",
        "colab": {}
      },
      "source": [
        "cfg=[12, 50, 100, 1, 0]"
      ],
      "execution_count": 0,
      "outputs": []
    },
    {
      "cell_type": "code",
      "metadata": {
        "id": "Ky6Cal6VMqbh",
        "colab_type": "code",
        "outputId": "e2556b65-ee69-426f-8e38-e3bda7ebdbd1",
        "colab": {
          "base_uri": "https://localhost:8080/",
          "height": 51
        }
      },
      "source": [
        "walk_forward_validation(data, n_test, cfg)"
      ],
      "execution_count": 171,
      "outputs": [
        {
          "output_type": "stream",
          "text": [
            " > 0.089\n"
          ],
          "name": "stdout"
        },
        {
          "output_type": "execute_result",
          "data": {
            "text/plain": [
              "0.08928259428082905"
            ]
          },
          "metadata": {
            "tags": []
          },
          "execution_count": 171
        }
      ]
    },
    {
      "cell_type": "code",
      "metadata": {
        "id": "iXkCdsZ7CP2T",
        "colab_type": "code",
        "colab": {}
      },
      "source": [
        "df=pd.read_csv('/content/tmdata.csv')\n",
        "df=df[['Temperature','time']]\n",
        "df['time'] = pd.to_datetime(df['time'])\n",
        "df.time=df.time.map(lambda x:str(x))\n",
        "df=df.set_index('time')\n",
        "df.to_csv('csv_file.csv')"
      ],
      "execution_count": 0,
      "outputs": []
    },
    {
      "cell_type": "code",
      "metadata": {
        "id": "vx1XJWceCcaD",
        "colab_type": "code",
        "outputId": "237489e5-ebad-426c-82ae-41b4286af80e",
        "colab": {
          "base_uri": "https://localhost:8080/",
          "height": 235
        }
      },
      "source": [
        "df['time'] = pd.to_datetime(df['time'])\n",
        "df.time=df.time.map(lambda x:str(x))\n",
        "df=df.set_index('time')\n",
        "df.to_csv('csv_file.csv')"
      ],
      "execution_count": 0,
      "outputs": [
        {
          "output_type": "execute_result",
          "data": {
            "text/html": [
              "<div>\n",
              "<style scoped>\n",
              "    .dataframe tbody tr th:only-of-type {\n",
              "        vertical-align: middle;\n",
              "    }\n",
              "\n",
              "    .dataframe tbody tr th {\n",
              "        vertical-align: top;\n",
              "    }\n",
              "\n",
              "    .dataframe thead th {\n",
              "        text-align: right;\n",
              "    }\n",
              "</style>\n",
              "<table border=\"1\" class=\"dataframe\">\n",
              "  <thead>\n",
              "    <tr style=\"text-align: right;\">\n",
              "      <th></th>\n",
              "      <th>Temperature</th>\n",
              "    </tr>\n",
              "    <tr>\n",
              "      <th>time</th>\n",
              "      <th></th>\n",
              "    </tr>\n",
              "  </thead>\n",
              "  <tbody>\n",
              "    <tr>\n",
              "      <th>2019-08-20 18:00:00+00:00</th>\n",
              "      <td>23.310000</td>\n",
              "    </tr>\n",
              "    <tr>\n",
              "      <th>2019-08-20 18:05:00+00:00</th>\n",
              "      <td>23.356667</td>\n",
              "    </tr>\n",
              "    <tr>\n",
              "      <th>2019-08-20 18:10:00+00:00</th>\n",
              "      <td>23.380000</td>\n",
              "    </tr>\n",
              "    <tr>\n",
              "      <th>2019-08-20 18:15:00+00:00</th>\n",
              "      <td>23.345000</td>\n",
              "    </tr>\n",
              "    <tr>\n",
              "      <th>2019-08-20 18:20:00+00:00</th>\n",
              "      <td>23.224000</td>\n",
              "    </tr>\n",
              "  </tbody>\n",
              "</table>\n",
              "</div>"
            ],
            "text/plain": [
              "                           Temperature\n",
              "time                                  \n",
              "2019-08-20 18:00:00+00:00    23.310000\n",
              "2019-08-20 18:05:00+00:00    23.356667\n",
              "2019-08-20 18:10:00+00:00    23.380000\n",
              "2019-08-20 18:15:00+00:00    23.345000\n",
              "2019-08-20 18:20:00+00:00    23.224000"
            ]
          },
          "metadata": {
            "tags": []
          },
          "execution_count": 152
        }
      ]
    }
  ]
}