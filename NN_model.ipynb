{
  "nbformat": 4,
  "nbformat_minor": 0,
  "metadata": {
    "colab": {
      "name": "NN model.ipynb",
      "provenance": [],
      "collapsed_sections": [],
      "include_colab_link": true
    },
    "kernelspec": {
      "name": "python3",
      "display_name": "Python 3"
    }
  },
  "cells": [
    {
      "cell_type": "markdown",
      "metadata": {
        "id": "view-in-github",
        "colab_type": "text"
      },
      "source": [
        "<a href=\"https://colab.research.google.com/github/byambaa1982/NN_model_on_TimeSeriesDataset/blob/master/NN_model.ipynb\" target=\"_parent\"><img src=\"https://colab.research.google.com/assets/colab-badge.svg\" alt=\"Open In Colab\"/></a>"
      ]
    },
    {
      "cell_type": "code",
      "metadata": {
        "id": "Pz-IzbSN_0K7",
        "colab_type": "code",
        "colab": {}
      },
      "source": [
        "from math import sqrt\n",
        "from numpy import array\n",
        "from numpy import mean\n",
        "from pandas import DataFrame\n",
        "from pandas import concat\n",
        "from pandas import read_csv\n",
        "from sklearn.metrics import mean_squared_error\n",
        "from keras.models import Sequential\n",
        "from keras.layers import Dense\n",
        "import pandas as pd\n",
        "import numpy as np\n",
        "import matplotlib.pyplot as plt\n",
        "from matplotlib import pyplot"
      ],
      "execution_count": 0,
      "outputs": []
    },
    {
      "cell_type": "code",
      "metadata": {
        "id": "5tbGZ8eJApCF",
        "colab_type": "code",
        "colab": {}
      },
      "source": [
        "# split a dataset into train/test sets\n",
        "def train_test_split(data, n_test):\n",
        "\treturn data[:-n_test], data[-n_test:]"
      ],
      "execution_count": 0,
      "outputs": []
    },
    {
      "cell_type": "code",
      "metadata": {
        "id": "0G50XKWAAz4v",
        "colab_type": "code",
        "colab": {}
      },
      "source": [
        "# transform list into supervised learning format\n",
        "def series_to_supervised(data, n_in=1, n_out=1):\n",
        "\tdf = pd.DataFrame(data)\n",
        "\tcols = list()\n",
        "\t# input sequence (t-n, ... t-1)\n",
        "\tfor i in range(n_in, 0, -1):\n",
        "\t\tcols.append(df.shift(i))\n",
        "\t# forecast sequence (t, t+1, ... t+n)\n",
        "\tfor i in range(0, n_out):\n",
        "\t\tcols.append(df.shift(-i))\n",
        "\t# put it all together\n",
        "\tagg = concat(cols, axis=1)\n",
        "\t# drop rows with NaN values\n",
        "\tagg.dropna(inplace=True)\n",
        "\treturn agg.values"
      ],
      "execution_count": 0,
      "outputs": []
    },
    {
      "cell_type": "code",
      "metadata": {
        "id": "o1XSOeUAAjwu",
        "colab_type": "code",
        "colab": {}
      },
      "source": [
        " \n",
        "# root mean squared error or rmse\n",
        "def measure_rmse(actual, predicted):\n",
        "\treturn sqrt(mean_squared_error(actual, predicted))\n",
        " \n",
        "# difference dataset\n",
        "def difference(data, order):\n",
        "\treturn [data[i] - data[i - order] for i in range(order, len(data))]\n",
        " \n",
        "# fit a model\n",
        "def model_fit(train, config):\n",
        "\t# unpack config\n",
        "\tn_input, n_nodes, n_epochs, n_batch, n_diff = config\n",
        "\t# prepare data\n",
        "\tif n_diff > 0:\n",
        "\t\ttrain = difference(train, n_diff)\n",
        "\t# transform series into supervised format\n",
        "\tdata = series_to_supervised(train, n_in=n_input)\n",
        "\t# separate inputs and outputs\n",
        "\ttrain_x, train_y = data[:, :-1], data[:, -1]\n",
        "\t# define model\n",
        "\tmodel = Sequential()\n",
        "\tmodel.add(Dense(n_nodes, activation='relu', input_dim=n_input))\n",
        "\tmodel.add(Dense(1))\n",
        "\tmodel.compile(loss='mse', optimizer='adam')\n",
        "\t# fit model\n",
        "\tmodel.fit(train_x, train_y, epochs=n_epochs, batch_size=n_batch, verbose=0)\n",
        "\treturn model\n",
        " \n",
        "# forecast with the fit model\n",
        "def model_predict(model, history, config):\n",
        "\t# unpack config\n",
        "\tn_input, _, _, _, n_diff = config\n",
        "\t# prepare data\n",
        "\tcorrection = 0.0\n",
        "\tif n_diff > 0:\n",
        "\t\tcorrection = history[-n_diff]\n",
        "\t\thistory = difference(history, n_diff)\n",
        "\t# shape input for model\n",
        "\tx_input = array(history[-n_input:]).reshape((1, n_input))\n",
        "\t# make forecast\n",
        "\tyhat = model.predict(x_input, verbose=0)\n",
        "\t# correct forecast if it was differenced\n",
        "\treturn correction + yhat[0]\n",
        " \n",
        "# walk-forward validation for univariate data\n",
        "def walk_forward_validation(data, n_test, cfg):\n",
        "\tpredictions = list()\n",
        "\t# split dataset\n",
        "\ttrain, test = train_test_split(data, n_test)\n",
        "\t# fit model\n",
        "\tmodel = model_fit(train, cfg)\n",
        "\t# seed history with training dataset\n",
        "\thistory = [x for x in train]\n",
        "\t# step over each time-step in the test set\n",
        "\tfor i in range(len(test)):\n",
        "\t\t# fit model and make forecast for history\n",
        "\t\tyhat = model_predict(model, history, cfg)\n",
        "\t\t# store forecast in list of predictions\n",
        "\t\tpredictions.append(yhat)\n",
        "\t\t# add actual observation to history for the next loop\n",
        "\t\thistory.append(test[i])\n",
        "\t# estimate prediction error\n",
        "\terror = measure_rmse(test, predictions)\n",
        "\tprint(' > %.3f' % error)\n",
        "\treturn error, predictions, test\n",
        " \n",
        "# score a model, return None on failure\n",
        "def repeat_evaluate(data, config, n_test, n_repeats=10):\n",
        "\t# convert config to a key\n",
        "\tkey = str(config)\n",
        "\t# fit and evaluate the model n times\n",
        "\tscores = [walk_forward_validation(data, n_test, config) for _ in range(n_repeats)]\n",
        "\t# summarize score\n",
        "\tresult = mean(scores)\n",
        "\tprint('> Model[%s] %.3f' % (key, result))\n",
        "\treturn (key, result)\n",
        " \n",
        "# grid search configs\n",
        "def grid_search(data, cfg_list, n_test):\n",
        "\t# evaluate configs\n",
        "\tscores = [repeat_evaluate(data, cfg, n_test) for cfg in cfg_list]\n",
        "\t# sort configs by error, asc\n",
        "\tscores.sort(key=lambda tup: tup[1])\n",
        "\treturn scores\n",
        " "
      ],
      "execution_count": 0,
      "outputs": []
    },
    {
      "cell_type": "code",
      "metadata": {
        "id": "WtCZXMZxASnf",
        "colab_type": "code",
        "colab": {}
      },
      "source": [
        "def data_to_csv(df):\n",
        "  df=df[['Temperature','time']]\n",
        "  df['time'] = pd.to_datetime(df['time'])\n",
        "  df.time=df.time.map(lambda x:str(x))\n",
        "  df=df.set_index('time')\n",
        "  return df.to_csv('csv_file_1.csv')"
      ],
      "execution_count": 0,
      "outputs": []
    },
    {
      "cell_type": "code",
      "metadata": {
        "id": "ZvBzqP1eApd8",
        "colab_type": "code",
        "colab": {}
      },
      "source": [
        "df=pd.read_csv('/content/tmdata.csv')"
      ],
      "execution_count": 0,
      "outputs": []
    },
    {
      "cell_type": "code",
      "metadata": {
        "id": "VQhZ7kzXA48w",
        "colab_type": "code",
        "colab": {
          "base_uri": "https://localhost:8080/",
          "height": 221
        },
        "outputId": "89652d62-1d93-4720-cc39-4b1deef2549e"
      },
      "source": [
        "data_to_csv(df)"
      ],
      "execution_count": 21,
      "outputs": [
        {
          "output_type": "stream",
          "text": [
            "/usr/local/lib/python3.6/dist-packages/ipykernel_launcher.py:3: SettingWithCopyWarning: \n",
            "A value is trying to be set on a copy of a slice from a DataFrame.\n",
            "Try using .loc[row_indexer,col_indexer] = value instead\n",
            "\n",
            "See the caveats in the documentation: http://pandas.pydata.org/pandas-docs/stable/indexing.html#indexing-view-versus-copy\n",
            "  This is separate from the ipykernel package so we can avoid doing imports until\n",
            "/usr/local/lib/python3.6/dist-packages/pandas/core/generic.py:5096: SettingWithCopyWarning: \n",
            "A value is trying to be set on a copy of a slice from a DataFrame.\n",
            "Try using .loc[row_indexer,col_indexer] = value instead\n",
            "\n",
            "See the caveats in the documentation: http://pandas.pydata.org/pandas-docs/stable/indexing.html#indexing-view-versus-copy\n",
            "  self[name] = value\n"
          ],
          "name": "stderr"
        }
      ]
    },
    {
      "cell_type": "code",
      "metadata": {
        "id": "qTlKxj_Sn87t",
        "colab_type": "code",
        "colab": {}
      },
      "source": [
        "# define dataset\n",
        "series = pd.read_csv('csv_file.csv', header=0, index_col=0)\n",
        "# series['Pass']=series['Passengers']\n",
        "data = series.values\n",
        "# data split\n",
        "n_test = 12\n",
        "# model configs"
      ],
      "execution_count": 0,
      "outputs": []
    },
    {
      "cell_type": "code",
      "metadata": {
        "id": "-aKxLlKlNI0w",
        "colab_type": "code",
        "colab": {}
      },
      "source": [
        "cfg=[20, 50, 100, 1, 0]"
      ],
      "execution_count": 0,
      "outputs": []
    },
    {
      "cell_type": "code",
      "metadata": {
        "id": "Ky6Cal6VMqbh",
        "colab_type": "code",
        "outputId": "2a7031d5-20ad-4392-f366-48ca8548f4ba",
        "colab": {
          "base_uri": "https://localhost:8080/",
          "height": 51
        }
      },
      "source": [
        "walk_forward_validation(data[:110], n_test, cfg)"
      ],
      "execution_count": 24,
      "outputs": [
        {
          "output_type": "stream",
          "text": [
            " > 0.120\n"
          ],
          "name": "stdout"
        },
        {
          "output_type": "execute_result",
          "data": {
            "text/plain": [
              "0.11958404018800274"
            ]
          },
          "metadata": {
            "tags": []
          },
          "execution_count": 24
        }
      ]
    },
    {
      "cell_type": "code",
      "metadata": {
        "id": "3eq02IHSB9jz",
        "colab_type": "code",
        "colab": {
          "base_uri": "https://localhost:8080/",
          "height": 51
        },
        "outputId": "87128700-bd44-4dda-ea97-78465f27c8da"
      },
      "source": [
        "true_values=walk_forward_validation(data[:110], n_test, cfg)[2]\n",
        "predictions=walk_forward_validation(data[:110], n_test, cfg)[1]"
      ],
      "execution_count": 40,
      "outputs": [
        {
          "output_type": "stream",
          "text": [
            " > 0.071\n",
            " > 0.043\n"
          ],
          "name": "stdout"
        }
      ]
    },
    {
      "cell_type": "code",
      "metadata": {
        "id": "VRZGWr4xCHsF",
        "colab_type": "code",
        "colab": {
          "base_uri": "https://localhost:8080/",
          "height": 312
        },
        "outputId": "0b7a4a25-5662-4233-fbda-8f7778aa34ff"
      },
      "source": [
        "# pyplot.plot([i for i in y[8600:8615]])\n",
        "pyplot.plot([x for x in true_values])\n",
        "pyplot.plot([x for x in predictions])\n",
        "plt.title('True and Predicted Values')\n",
        "plt.xlabel('Number of observations')\n",
        "plt.ylabel('Temperature')\n",
        "plt.legend()\n",
        "pyplot.show()"
      ],
      "execution_count": 41,
      "outputs": [
        {
          "output_type": "stream",
          "text": [
            "No handles with labels found to put in legend.\n"
          ],
          "name": "stderr"
        },
        {
          "output_type": "display_data",
          "data": {
            "image/png": "[encoded data removed]",
            "text/plain": [
              "<Figure size 432x288 with 1 Axes>"
            ]
          },
          "metadata": {
            "tags": []
          }
        }
      ]
    },
    {
      "cell_type": "code",
      "metadata": {
        "id": "j-VW2uomDH83",
        "colab_type": "code",
        "colab": {
          "base_uri": "https://localhost:8080/",
          "height": 34
        },
        "outputId": "530a6235-b282-4480-f323-d32f53e65440"
      },
      "source": [
        "true_values"
      ],
      "execution_count": 39,
      "outputs": [
        {
          "output_type": "execute_result",
          "data": {
            "text/plain": [
              "0.06478218990506251"
            ]
          },
          "metadata": {
            "tags": []
          },
          "execution_count": 39
        }
      ]
    }
  ]
}